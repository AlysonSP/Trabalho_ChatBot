{
 "cells": [
  {
   "cell_type": "code",
   "execution_count": null,
   "id": "3b0089ad",
   "metadata": {},
   "outputs": [],
   "source": [
    "pip install Flask Flask-Session"
   ]
  },
  {
   "cell_type": "code",
   "execution_count": null,
   "id": "57ab28fe-818a-4059-909f-606147aac0cc",
   "metadata": {},
   "outputs": [
    {
     "name": "stdout",
     "output_type": "stream",
     "text": [
      " * Serving Flask app '__main__'\n",
      " * Debug mode: off\n"
     ]
    },
    {
     "name": "stderr",
     "output_type": "stream",
     "text": [
      "WARNING: This is a development server. Do not use it in a production deployment. Use a production WSGI server instead.\n",
      " * Running on all addresses (0.0.0.0)\n",
      " * Running on http://127.0.0.1:5000\n",
      " * Running on http://192.168.0.129:5000\n",
      "Press CTRL+C to quit\n"
     ]
    }
   ],
   "source": [
    "# Importe seu app (certifique-se que app.py está no mesmo diretório do notebook)\n",
    "from app import app # Isso vai executar o código global em app.py\n",
    "\n",
    "# Inicie o servidor Flask\n",
    "# Use use_reloader=False para evitar problemas com o reloader dentro do Jupyter\n",
    "if __name__ == '__main__': # Este if __name__ é para a célula do notebook\n",
    "    try:\n",
    "        print(\"Starting Flask app from notebook cell...\")\n",
    "        app.run(debug=True, host='0.0.0.0', port=5000, use_reloader=False)\n",
    "        print(\"Flask app should be running.\")\n",
    "    except Exception as e:\n",
    "        print(f\"Error running Flask app: {e}\")"
   ]
  },
  {
   "cell_type": "code",
   "execution_count": null,
   "id": "2235dc46-2cb7-4174-8d7b-8140c42593e7",
   "metadata": {},
   "outputs": [],
   "source": []
  }
 ],
 "metadata": {
  "kernelspec": {
   "display_name": "Python [conda env:base] *",
   "language": "python",
   "name": "conda-base-py"
  },
  "language_info": {
   "codemirror_mode": {
    "name": "ipython",
    "version": 3
   },
   "file_extension": ".py",
   "mimetype": "text/x-python",
   "name": "python",
   "nbconvert_exporter": "python",
   "pygments_lexer": "ipython3",
   "version": "3.12.7"
  }
 },
 "nbformat": 4,
 "nbformat_minor": 5
}
